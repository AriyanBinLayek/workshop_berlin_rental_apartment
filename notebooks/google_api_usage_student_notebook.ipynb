{
 "cells": [
  {
   "cell_type": "markdown",
   "metadata": {},
   "source": [
    "We will use googlemaps in order to calculate the train trip duration between the given address and S-Bahn Friedrichstrasse.\n",
    "\n",
    "WARNING: The API is limited to only 2000 requests per day, so use around 2-5 address at one to test your solution!"
   ]
  },
  {
   "cell_type": "code",
   "execution_count": null,
   "metadata": {},
   "outputs": [],
   "source": [
    "import googlemaps\n",
    "import pandas as pd"
   ]
  },
  {
   "cell_type": "markdown",
   "metadata": {},
   "source": [
    "Read the clean data you generated in the first notebook."
   ]
  },
  {
   "cell_type": "code",
   "execution_count": null,
   "metadata": {},
   "outputs": [],
   "source": [
    "cleaned_data = None"
   ]
  },
  {
   "cell_type": "markdown",
   "metadata": {},
   "source": [
    "Make sure that you dont have duplicates in the street anem and general addresses (to reduce number of requests). Explore you dataset (remove NaNs). Samsample just some of it to reduce number of requests"
   ]
  },
  {
   "cell_type": "code",
   "execution_count": null,
   "metadata": {},
   "outputs": [],
   "source": [
    "address = None"
   ]
  },
  {
   "cell_type": "markdown",
   "metadata": {},
   "source": [
    "Generate your own googlemaps key: https://developers.google.com/maps/documentation/distance-matrix/start\n",
    "\n",
    "FAQ: https://cloud.google.com/free/docs/frequently-asked-questions?\n",
    "\n",
    "It might happen that google asks for your credit card data, as you see from FAQ it is still free of charge to use. However, if you dont like imputing your credit card data, skip the next lines and start on the marked line, change the cell to be \"Code\"."
   ]
  },
  {
   "cell_type": "code",
   "execution_count": null,
   "metadata": {},
   "outputs": [],
   "source": [
    "gmaps = googlemaps.Client(key='YOUR KEY AS A STRING')"
   ]
  },
  {
   "cell_type": "markdown",
   "metadata": {},
   "source": [
    "Concatenate street name and general address with a comma as a seperator"
   ]
  },
  {
   "cell_type": "code",
   "execution_count": null,
   "metadata": {},
   "outputs": [],
   "source": [
    "origins = None\n",
    "dests = \"S-Bahn Friedrichstrasse, Berlin, Germany\""
   ]
  },
  {
   "cell_type": "markdown",
   "metadata": {},
   "source": [
    "Use google api to extract information how long it would take you to get to dests if you want to use public transporation"
   ]
  },
  {
   "cell_type": "code",
   "execution_count": null,
   "metadata": {},
   "outputs": [],
   "source": [
    "matrix = gmaps.distance_matrix(origins, dests,\n",
    "                                            mode='transit',\n",
    "                                            language=\"en-AU\",\n",
    "                                            traffic_model=\"optimistic\")"
   ]
  },
  {
   "cell_type": "raw",
   "metadata": {},
   "source": [
    "# no credit card input\n",
    "matrix = {'destination_addresses': ['Georgenstraße 14/17, 10117 Berlin, Germany'],\n",
    " 'origin_addresses': ['Rosenheimer Str., 10781 Berlin, Germany',\n",
    "  'Neuenburger Str., 10969 Berlin, Germany',\n",
    "  'Dieselstraße, 12057 Berlin, Germany',\n",
    "  'Alt-Stralau, 10245 Berlin, Germany',\n",
    "  'Invalidenstraße, 10115 Berlin, Germany',\n",
    "  'Friedrichstraße, 10969 Berlin, Germany',\n",
    "  'Emser Str., 12051 Berlin, Germany',\n",
    "  'Hohenzollerndamm, 14199 Berlin, Germany',\n",
    "  'Deulstraße 16, 12459 Berlin, Germany',\n",
    "  'Schlegelstraße, 10115 Berlin, Germany'],\n",
    " 'rows': [{'elements': [{'distance': {'text': '6.4 km', 'value': 6427},\n",
    "     'duration': {'text': '18 mins', 'value': 1088},\n",
    "     'status': 'OK'}]},\n",
    "  {'elements': [{'distance': {'text': '3.1 km', 'value': 3144},\n",
    "     'duration': {'text': '13 mins', 'value': 776},\n",
    "     'status': 'OK'}]},\n",
    "  {'elements': [{'distance': {'text': '9.6 km', 'value': 9551},\n",
    "     'duration': {'text': '38 mins', 'value': 2275},\n",
    "     'status': 'OK'}]},\n",
    "  {'elements': [{'distance': {'text': '7.6 km', 'value': 7558},\n",
    "     'duration': {'text': '23 mins', 'value': 1385},\n",
    "     'status': 'OK'}]},\n",
    "  {'elements': [{'distance': {'text': '1.5 km', 'value': 1457},\n",
    "     'duration': {'text': '6 mins', 'value': 336},\n",
    "     'status': 'OK'}]},\n",
    "  {'elements': [{'distance': {'text': '1.7 km', 'value': 1699},\n",
    "     'duration': {'text': '7 mins', 'value': 390},\n",
    "     'status': 'OK'}]},\n",
    "  {'elements': [{'distance': {'text': '11.0 km', 'value': 10969},\n",
    "     'duration': {'text': '23 mins', 'value': 1382},\n",
    "     'status': 'OK'}]},\n",
    "  {'elements': [{'distance': {'text': '10.1 km', 'value': 10063},\n",
    "     'duration': {'text': '31 mins', 'value': 1864},\n",
    "     'status': 'OK'}]},\n",
    "  {'elements': [{'distance': {'text': '16.0 km', 'value': 16039},\n",
    "     'duration': {'text': '43 mins', 'value': 2570},\n",
    "     'status': 'OK'}]},\n",
    "  {'elements': [{'distance': {'text': '1.6 km', 'value': 1624},\n",
    "     'duration': {'text': '8 mins', 'value': 454},\n",
    "     'status': 'OK'}]}],\n",
    " 'status': 'OK'}"
   ]
  },
  {
   "cell_type": "markdown",
   "metadata": {},
   "source": [
    "matrix is in json format, explore it. You will need to parse it in order to extract the time durations."
   ]
  },
  {
   "cell_type": "code",
   "execution_count": null,
   "metadata": {},
   "outputs": [],
   "source": [
    "time_values = []\n",
    "for row in matrix['rows']:\n",
    "    el = None\n",
    "    if el['status']=='OK':\n",
    "        time_values.append(None)\n",
    "    else:\n",
    "        time_values.append(el['status'])"
   ]
  },
  {
   "cell_type": "markdown",
   "metadata": {},
   "source": [
    "Show the data (origin and duration) in dataframe."
   ]
  },
  {
   "cell_type": "code",
   "execution_count": null,
   "metadata": {},
   "outputs": [],
   "source": [
    "pd.DataFrame(None)"
   ]
  }
 ],
 "metadata": {
  "kernelspec": {
   "display_name": "Python 3",
   "language": "python",
   "name": "python3"
  },
  "language_info": {
   "codemirror_mode": {
    "name": "ipython",
    "version": 3
   },
   "file_extension": ".py",
   "mimetype": "text/x-python",
   "name": "python",
   "nbconvert_exporter": "python",
   "pygments_lexer": "ipython3",
   "version": "3.6.5"
  }
 },
 "nbformat": 4,
 "nbformat_minor": 2
}
