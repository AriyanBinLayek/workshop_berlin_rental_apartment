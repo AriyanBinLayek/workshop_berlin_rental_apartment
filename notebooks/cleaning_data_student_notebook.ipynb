{
 "cells": [
  {
   "cell_type": "code",
   "execution_count": null,
   "metadata": {},
   "outputs": [],
   "source": [
    "import pandas as pd\n",
    "pd.set_option('display.max_columns', None)"
   ]
  },
  {
   "cell_type": "markdown",
   "metadata": {},
   "source": [
    "# 1. Exploring data"
   ]
  },
  {
   "cell_type": "markdown",
   "metadata": {},
   "source": [
    "Load data (data/final_rent_data.txt, this is the data you get by webscraping) into a pandas data frame. [Documentation](https://pandas.pydata.org/pandas-docs/version/0.21/generated/pandas.read_table.html)"
   ]
  },
  {
   "cell_type": "code",
   "execution_count": null,
   "metadata": {},
   "outputs": [],
   "source": [
    "flats = None"
   ]
  },
  {
   "cell_type": "markdown",
   "metadata": {},
   "source": [
    "Explore your dataset: check what columns you have, what are the values of those columns, also get some statistics about the numerical and categorical columns. Make yourself familiar with it. [Useful](https://pandas.pydata.org/pandas-docs/stable/generated/pandas.DataFrame.info.html) [functions](https://pandas.pydata.org/pandas-docs/stable/generated/pandas.DataFrame.describe.html).\n",
    "Answer following questions: \n",
    "1. How many non-nulls are in column rooms?\n",
    "2. What is the maximum number of bathrooms?\n",
    "3. What is the most popular general address?"
   ]
  },
  {
   "cell_type": "code",
   "execution_count": null,
   "metadata": {},
   "outputs": [],
   "source": [
    "flats."
   ]
  },
  {
   "cell_type": "code",
   "execution_count": null,
   "metadata": {},
   "outputs": [],
   "source": [
    "flats."
   ]
  },
  {
   "cell_type": "code",
   "execution_count": null,
   "metadata": {},
   "outputs": [],
   "source": [
    "flats."
   ]
  },
  {
   "cell_type": "markdown",
   "metadata": {},
   "source": [
    "Answers:\n",
    "    1. 5949\n",
    "    2. 4\n",
    "    3. 10177 Berlin, Mitte"
   ]
  },
  {
   "cell_type": "markdown",
   "metadata": {},
   "source": [
    "Find apartment that has the maximum number of bathrooms. [Useful function](https://pandas.pydata.org/pandas-docs/version/0.23/generated/pandas.DataFrame.query.html)"
   ]
  },
  {
   "cell_type": "code",
   "execution_count": null,
   "metadata": {},
   "outputs": [],
   "source": [
    "flats."
   ]
  },
  {
   "cell_type": "markdown",
   "metadata": {},
   "source": [
    "## 1.2 Remove rows with many nas"
   ]
  },
  {
   "cell_type": "markdown",
   "metadata": {},
   "source": [
    "Understand what the [function 'dropna'](https://pandas.pydata.org/pandas-docs/stable/generated/pandas.DataFrame.dropna.html) does, what parameters it takes and what is a 'thresh' parameter. How many values are rquired to be non-NaNs in this case? (hint: find oiut what is the value of flats.shape[1]*0.9)"
   ]
  },
  {
   "cell_type": "code",
   "execution_count": null,
   "metadata": {},
   "outputs": [],
   "source": [
    "flats = flats.dropna(thresh=flats.shape[1]*0.9)"
   ]
  },
  {
   "cell_type": "markdown",
   "metadata": {},
   "source": [
    "# 2. Finding duplicates"
   ]
  },
  {
   "cell_type": "markdown",
   "metadata": {},
   "source": [
    "Try to find:\n",
    "1. obvious duplicates. Think what happens if the apartment stay several days online and you scrap every day. What should be equal for sure? And what add would you want to remove?\n",
    "2. not obvious duplicates. Use your imagination what could an agency do with the apartment ads. (Ypu should have around 1474 rows at the end)\n",
    "\n",
    "[Useful](https://pandas.pydata.org/pandas-docs/stable/generated/pandas.DataFrame.drop_duplicates.html) [functions](https://pandas.pydata.org/pandas-docs/stable/generated/pandas.DataFrame.duplicated.html)"
   ]
  },
  {
   "cell_type": "markdown",
   "metadata": {},
   "source": [
    "There might be much more duplicated records but they are hard to be recognized, for now this notebook concetrated only on the easy ones."
   ]
  },
  {
   "cell_type": "markdown",
   "metadata": {},
   "source": [
    "Save your dataframe to a new file called 'cleaned_data.txt'"
   ]
  },
  {
   "cell_type": "code",
   "execution_count": null,
   "metadata": {},
   "outputs": [],
   "source": []
  }
 ],
 "metadata": {
  "kernelspec": {
   "display_name": "Python 3",
   "language": "python",
   "name": "python3"
  },
  "language_info": {
   "codemirror_mode": {
    "name": "ipython",
    "version": 3
   },
   "file_extension": ".py",
   "mimetype": "text/x-python",
   "name": "python",
   "nbconvert_exporter": "python",
   "pygments_lexer": "ipython3",
   "version": "3.6.5"
  }
 },
 "nbformat": 4,
 "nbformat_minor": 2
}
