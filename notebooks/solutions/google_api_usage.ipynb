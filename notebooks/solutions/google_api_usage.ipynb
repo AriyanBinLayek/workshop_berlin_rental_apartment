{
 "cells": [
  {
   "cell_type": "markdown",
   "metadata": {},
   "source": [
    "We will use googlemaps in order to calculate the train trip duration between the given address and S-Bahn Friedrichstrasse.\n",
    "\n",
    "WARNING: The API is limited to only 2000 requests per day, so use around 2-5 address at one to test your solution!"
   ]
  },
  {
   "cell_type": "code",
   "execution_count": null,
   "metadata": {},
   "outputs": [],
   "source": [
    "import googlemaps\n",
    "import pandas as pd"
   ]
  },
  {
   "cell_type": "code",
   "execution_count": null,
   "metadata": {},
   "outputs": [],
   "source": [
    "cleaned_data = pd.read_csv(\"../../data/cleaned_data.txt\")"
   ]
  },
  {
   "cell_type": "markdown",
   "metadata": {},
   "source": [
    "Make sure that you dont have duplicates in the street anem and general addresses (to reduce number of requests). Explore you dataset (remove NaNs). Samsample just some of it to reduce number of requests"
   ]
  },
  {
   "cell_type": "code",
   "execution_count": null,
   "metadata": {},
   "outputs": [],
   "source": [
    "address = cleaned_data[['street_name', 'general_address']].drop_duplicates().dropna().sample(n=10)"
   ]
  },
  {
   "cell_type": "markdown",
   "metadata": {},
   "source": [
    "Generate your own googlemaps key: https://developers.google.com/maps/documentation/distance-matrix/start"
   ]
  },
  {
   "cell_type": "code",
   "execution_count": null,
   "metadata": {},
   "outputs": [],
   "source": [
    "gmaps = googlemaps.Client(key='YOUR KEY AS A STRING')"
   ]
  },
  {
   "cell_type": "markdown",
   "metadata": {},
   "source": [
    "Concatenate street name and general address with a comma as a seperator"
   ]
  },
  {
   "cell_type": "code",
   "execution_count": null,
   "metadata": {},
   "outputs": [],
   "source": [
    "origins = address['street_name'] + \",\" +address['general_address']\n",
    "dests = \"S-Bahn Friedrichstrasse, Berlin, Germany\""
   ]
  },
  {
   "cell_type": "markdown",
   "metadata": {},
   "source": [
    "Use google api to extract information how long it would take you to get to dests if you want to use public transporation"
   ]
  },
  {
   "cell_type": "code",
   "execution_count": null,
   "metadata": {},
   "outputs": [],
   "source": [
    "matrix = gmaps.distance_matrix(origins, dests,\n",
    "                                            mode='transit',\n",
    "                                            language=\"en-AU\",\n",
    "                                            traffic_model=\"optimistic\")"
   ]
  },
  {
   "cell_type": "markdown",
   "metadata": {},
   "source": [
    "matrix is in json format, explore it. You will need to parse it in order to extract the time durations."
   ]
  },
  {
   "cell_type": "code",
   "execution_count": null,
   "metadata": {},
   "outputs": [],
   "source": [
    "time_values = []\n",
    "for row in matrix['rows']:\n",
    "    el = row['elements'][0]\n",
    "    if el['status']=='OK':\n",
    "        #'distance'\n",
    "        time_values.append(el[\"duration\"]['text'])\n",
    "    else:\n",
    "        time_values.append(el['status'])"
   ]
  },
  {
   "cell_type": "markdown",
   "metadata": {},
   "source": [
    "Show the data (origin and duration) in dataframe."
   ]
  },
  {
   "cell_type": "code",
   "execution_count": null,
   "metadata": {},
   "outputs": [],
   "source": [
    "pd.DataFrame({'origin': matrix['origin_addresses'], 'time': time_vals})"
   ]
  }
 ],
 "metadata": {
  "kernelspec": {
   "display_name": "Python 3",
   "language": "python",
   "name": "python3"
  },
  "language_info": {
   "codemirror_mode": {
    "name": "ipython",
    "version": 3
   },
   "file_extension": ".py",
   "mimetype": "text/x-python",
   "name": "python",
   "nbconvert_exporter": "python",
   "pygments_lexer": "ipython3",
   "version": "3.6.5"
  }
 },
 "nbformat": 4,
 "nbformat_minor": 2
}
